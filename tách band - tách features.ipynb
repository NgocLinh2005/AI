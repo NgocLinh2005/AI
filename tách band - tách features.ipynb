{
 "cells": [
  {
   "cell_type": "markdown",
   "id": "1ecc6060",
   "metadata": {},
   "source": [
    "Tách Band"
   ]
  },
  {
   "cell_type": "code",
   "execution_count": 9,
   "id": "287b10f7",
   "metadata": {},
   "outputs": [
    {
     "name": "stdout",
     "output_type": "stream",
     "text": [
      "Saved D:\\Trí tuệ nhân tạo\\Test\\0226\\split_4bands\\band_1.tif\n",
      "Saved D:\\Trí tuệ nhân tạo\\Test\\0226\\split_4bands\\band_2.tif\n",
      "Saved D:\\Trí tuệ nhân tạo\\Test\\0226\\split_4bands\\band_3.tif\n",
      "Saved D:\\Trí tuệ nhân tạo\\Test\\0226\\split_4bands\\band_4.tif\n"
     ]
    }
   ],
   "source": [
    "import rasterio\n",
    "import os\n",
    "\n",
    "# Đường dẫn đến ảnh đa band\n",
    "input_path = r\"D:\\Trí tuệ nhân tạo\\Test\\0226\\rmvbg_0226.tif\"\n",
    "output_dir = r\"D:\\Trí tuệ nhân tạo\\Test\\0226\\split_4bands\"\n",
    "\n",
    "# Create output directory if it doesn't exist\n",
    "os.makedirs(output_dir, exist_ok=True)\n",
    "\n",
    "with rasterio.open(input_path) as src:\n",
    "    for i in range(1, src.count + 1):  # src.count là số bands\n",
    "        band = src.read(i)\n",
    "        profile = src.profile\n",
    "        profile.update(count=1)\n",
    "\n",
    "        output_path = os.path.join(output_dir, f\"band_{i}.tif\")\n",
    "        with rasterio.open(output_path, 'w', **profile) as dst:\n",
    "            dst.write(band, 1)\n",
    "        print(f\"Saved {output_path}\")"
   ]
  },
  {
   "cell_type": "markdown",
   "id": "404ccf48",
   "metadata": {},
   "source": [
    "Tách features"
   ]
  },
  {
   "cell_type": "code",
   "execution_count": 10,
   "id": "9f0ec69b",
   "metadata": {},
   "outputs": [
    {
     "name": "stdout",
     "output_type": "stream",
     "text": [
      "✅ Saved D:\\Trí tuệ nhân tạo\\sen_0226\\S\\brightness.tif\n",
      "✅ Saved D:\\Trí tuệ nhân tạo\\sen_0226\\S\\ndvi.tif\n",
      "✅ Saved D:\\Trí tuệ nhân tạo\\sen_0226\\S\\ndi_rb.tif\n",
      "✅ Saved D:\\Trí tuệ nhân tạo\\sen_0226\\S\\min_rgb.tif\n",
      "✅ Saved D:\\Trí tuệ nhân tạo\\sen_0226\\S\\br_ratio.tif\n"
     ]
    }
   ],
   "source": [
    "import numpy as np\n",
    "import rasterio\n",
    "import os\n",
    "\n",
    "# === Cấu hình ===\n",
    "band_dir = r\"D:\\Trí tuệ nhân tạo\\Test\\0226\\split_4bands\"   # Thư mục chứa các band\n",
    "output_dir = r\"D:\\Trí tuệ nhân tạo\\sen_0226\\S\"           # Thư mục lưu các feature\n",
    "os.makedirs(output_dir, exist_ok=True)\n",
    "\n",
    "# === Đọc các band với đúng thứ tự phổ ===\n",
    "with rasterio.open(os.path.join(band_dir, \"band_1.tif\")) as src:\n",
    "    red = src.read(1).astype(np.float32)\n",
    "    profile = src.profile\n",
    "\n",
    "with rasterio.open(os.path.join(band_dir, \"band_2.tif\")) as src:\n",
    "    green = src.read(1).astype(np.float32)\n",
    "\n",
    "with rasterio.open(os.path.join(band_dir, \"band_3.tif\")) as src:\n",
    "    blue = src.read(1).astype(np.float32)\n",
    "\n",
    "with rasterio.open(os.path.join(band_dir, \"band_4.tif\")) as src:\n",
    "    nir = src.read(1).astype(np.float32)\n",
    "\n",
    "# === Tính các chỉ số đặc trưng phổ ===\n",
    "eps = 1e-4  # Tránh chia cho 0\n",
    "\n",
    "brightness = (red + green + blue) / 3\n",
    "ndvi = (nir - red) / (nir + red + eps)\n",
    "ndi_rb = (red - blue) / (red + blue + eps)\n",
    "min_rgb = np.minimum.reduce([red, green, blue])\n",
    "br_ratio = blue / (red + eps)\n",
    "\n",
    "# === Lưu từng raster ===\n",
    "features = {\n",
    "    \"brightness.tif\": brightness,\n",
    "    \"ndvi.tif\": ndvi,\n",
    "    \"ndi_rb.tif\": ndi_rb,\n",
    "    \"min_rgb.tif\": min_rgb,\n",
    "    \"br_ratio.tif\": br_ratio,\n",
    "}\n",
    "\n",
    "profile.update(dtype=rasterio.float32, count=1)\n",
    "\n",
    "for name, array in features.items():\n",
    "    out_path = os.path.join(output_dir, name)\n",
    "    with rasterio.open(out_path, \"w\", **profile) as dst:\n",
    "        dst.write(array, 1)\n",
    "    print(f\"✅ Saved {out_path}\")\n"
   ]
  }
 ],
 "metadata": {
  "kernelspec": {
   "display_name": "base",
   "language": "python",
   "name": "python3"
  },
  "language_info": {
   "codemirror_mode": {
    "name": "ipython",
    "version": 3
   },
   "file_extension": ".py",
   "mimetype": "text/x-python",
   "name": "python",
   "nbconvert_exporter": "python",
   "pygments_lexer": "ipython3",
   "version": "3.12.3"
  }
 },
 "nbformat": 4,
 "nbformat_minor": 5
}
